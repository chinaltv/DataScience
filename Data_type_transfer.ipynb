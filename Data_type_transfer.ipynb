{
 "cells": [
  {
   "cell_type": "markdown",
   "metadata": {},
   "source": [
    "该cheatsheet记录基于python的数据互转函数。\n",
    "\n",
    "陈曦 2022.10.20"
   ]
  },
  {
   "cell_type": "code",
   "execution_count": 11,
   "metadata": {},
   "outputs": [],
   "source": [
    "import io\n",
    "import numpy as np\n",
    "import pandas as pd\n",
    "import feather\n",
    "import os\n",
    "import openpyxl\n",
    "import pyreadstat\n",
    "import scipy.io\n",
    "\n",
    "os.chdir('e:/Dept_Sci_Res/other/04_Data/01_Data for statistics training/02_Dimension_reduction/')\n",
    "\n",
    "# 以下列表转数据框化\n",
    "# trans_df = pd.DataFrame(lst)\n",
    "\n",
    "# 以下特定文本重转数据框化\n",
    "def txt_read(input_path):  # 特定于乱七八糟的python列表导出，分行\n",
    "    lst = np.loadtxt(input_path, delimiter=',', dtype=str)\n",
    "    trans_df = pd.DataFrame(lst)\n",
    "    i = 0\n",
    "    for i in trans_df:\n",
    "        trans_df[i] = trans_df[i].str.replace(r'[^\\w\\s]+', '', regex = True)  # 解决标点符号\n",
    "        trans_df[i] = pd.to_numeric(trans_df[i], errors='coerce')             # \n",
    "        i += 1\n",
    "    return trans_df\n"
   ]
  },
  {
   "cell_type": "code",
   "execution_count": null,
   "metadata": {},
   "outputs": [],
   "source": [
    "# 以下正式读取 input\n",
    "input_path = './EFA_data.xlsx'\n",
    "# trans_df = feather.read_dataframe(input_path)       # feather\n",
    "# trans_df = txt_read(input_path)                     # 特定txt\n",
    "# trans_df = pd.read_excel(input_path)                # excel\n",
    "# trans_df = pd.read_csv(input_path)                  # csv\n",
    "# trans_df = pd.read_spss(input_path)                 # sav文件，未测试\n",
    "# trans_df = pd.read_feather(input_path)              # feather文件，未测试\n",
    "# trans_df, meta = pyreadstat.read_sav(input_path)    # sav2文件，未测试\n",
    "# trans_dict = scipy.io.loadmat(input_path)           # mat文件，未测试\n",
    "\n",
    "trans_df"
   ]
  },
  {
   "cell_type": "code",
   "execution_count": 22,
   "metadata": {},
   "outputs": [],
   "source": [
    "# 以下正式写出 output\n",
    "output_path = './EFA_data.mat'\n",
    "# feather.write_dataframe(trans_df, output_path)                 # feather文件\n",
    "# pd.DataFrame.to_feather(trans_df, output_path)                 # feather文件2\n",
    "# pd.DataFrame.to_csv(trans_df, output_path, encoding = 'gbk')   # csv文件\n",
    "# pd.DataFrame.to_excel(trans_df, output_path)                   # xlsx文件\n",
    "\n",
    "# 暂不支持sav/mat格式，有点问题，请转成csv/xlsx再直接导入。\n",
    "# 不建议写成txt，请多写成csv/feather。"
   ]
  }
 ],
 "metadata": {
  "kernelspec": {
   "display_name": "Python 3.10.7 64-bit",
   "language": "python",
   "name": "python3"
  },
  "language_info": {
   "codemirror_mode": {
    "name": "ipython",
    "version": 3
   },
   "file_extension": ".py",
   "mimetype": "text/x-python",
   "name": "python",
   "nbconvert_exporter": "python",
   "pygments_lexer": "ipython3",
   "version": "3.10.7"
  },
  "orig_nbformat": 4,
  "vscode": {
   "interpreter": {
    "hash": "a42ccb73e7d9bfdf27e036f1d2b8b681e55fc0743cc5586bc2474d4a60f4b886"
   }
  }
 },
 "nbformat": 4,
 "nbformat_minor": 2
}
