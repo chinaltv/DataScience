{
 "cells": [
  {
   "cell_type": "code",
   "execution_count": 1,
   "metadata": {},
   "outputs": [],
   "source": [
    "import numpy as np\n",
    "import pandas as pd\n",
    "import matplotlib.pyplot as plt\n",
    "\n",
    "import os\n",
    "import copy\n",
    "\n",
    "import factor_analyzer\n",
    "from factor_analyzer.factor_analyzer import calculate_bartlett_sphericity, calculate_kmo\n",
    "from factor_analyzer import FactorAnalyzer\n",
    "from scipy.stats import bartlett # 目前有问题\n",
    "\n",
    "import sklearn\n",
    "from sklearn.decomposition import FactorAnalysis, PCA\n",
    "from sklearn.preprocessing import StandardScaler\n",
    "\n",
    "import statsmodels\n",
    "from statsmodels.multivariate.factor import Factor, FactorResults\n",
    "\n",
    "# import factanal\n",
    "# from factanal.wrapper import factanal # 运行该包会导致jupyter内核报错。可能是因为rpy2不支持在windows上运行。\n",
    "\n",
    "os.chdir('H:/I.R/Project：Neuroscience/Data Science Training')\n",
    "pd.set_option('display.float_format',lambda x : '%.3f' % x)\n",
    "np.set_printoptions(suppress=True)"
   ]
  },
  {
   "cell_type": "code",
   "execution_count": 2,
   "metadata": {},
   "outputs": [
    {
     "data": {
      "text/html": [
       "<div>\n",
       "<style scoped>\n",
       "    .dataframe tbody tr th:only-of-type {\n",
       "        vertical-align: middle;\n",
       "    }\n",
       "\n",
       "    .dataframe tbody tr th {\n",
       "        vertical-align: top;\n",
       "    }\n",
       "\n",
       "    .dataframe thead th {\n",
       "        text-align: right;\n",
       "    }\n",
       "</style>\n",
       "<table border=\"1\" class=\"dataframe\">\n",
       "  <thead>\n",
       "    <tr style=\"text-align: right;\">\n",
       "      <th></th>\n",
       "      <th>Academic record</th>\n",
       "      <th>Appearance</th>\n",
       "      <th>Communication</th>\n",
       "      <th>Company Fit</th>\n",
       "      <th>Experience</th>\n",
       "      <th>Job Fit</th>\n",
       "      <th>Letter</th>\n",
       "      <th>Likeability</th>\n",
       "      <th>Organization</th>\n",
       "      <th>Potential</th>\n",
       "      <th>Resume</th>\n",
       "      <th>Self-Confidence</th>\n",
       "    </tr>\n",
       "  </thead>\n",
       "  <tbody>\n",
       "    <tr>\n",
       "      <th>0</th>\n",
       "      <td>6</td>\n",
       "      <td>8</td>\n",
       "      <td>7</td>\n",
       "      <td>5</td>\n",
       "      <td>6</td>\n",
       "      <td>5</td>\n",
       "      <td>7</td>\n",
       "      <td>7</td>\n",
       "      <td>7</td>\n",
       "      <td>6</td>\n",
       "      <td>7</td>\n",
       "      <td>7</td>\n",
       "    </tr>\n",
       "    <tr>\n",
       "      <th>1</th>\n",
       "      <td>9</td>\n",
       "      <td>8</td>\n",
       "      <td>8</td>\n",
       "      <td>8</td>\n",
       "      <td>10</td>\n",
       "      <td>9</td>\n",
       "      <td>8</td>\n",
       "      <td>9</td>\n",
       "      <td>8</td>\n",
       "      <td>9</td>\n",
       "      <td>9</td>\n",
       "      <td>9</td>\n",
       "    </tr>\n",
       "    <tr>\n",
       "      <th>2</th>\n",
       "      <td>6</td>\n",
       "      <td>7</td>\n",
       "      <td>7</td>\n",
       "      <td>6</td>\n",
       "      <td>6</td>\n",
       "      <td>7</td>\n",
       "      <td>7</td>\n",
       "      <td>8</td>\n",
       "      <td>8</td>\n",
       "      <td>6</td>\n",
       "      <td>6</td>\n",
       "      <td>8</td>\n",
       "    </tr>\n",
       "    <tr>\n",
       "      <th>3</th>\n",
       "      <td>7</td>\n",
       "      <td>8</td>\n",
       "      <td>6</td>\n",
       "      <td>5</td>\n",
       "      <td>8</td>\n",
       "      <td>5</td>\n",
       "      <td>9</td>\n",
       "      <td>8</td>\n",
       "      <td>7</td>\n",
       "      <td>8</td>\n",
       "      <td>7</td>\n",
       "      <td>7</td>\n",
       "    </tr>\n",
       "    <tr>\n",
       "      <th>4</th>\n",
       "      <td>4</td>\n",
       "      <td>7</td>\n",
       "      <td>8</td>\n",
       "      <td>6</td>\n",
       "      <td>6</td>\n",
       "      <td>6</td>\n",
       "      <td>6</td>\n",
       "      <td>7</td>\n",
       "      <td>8</td>\n",
       "      <td>5</td>\n",
       "      <td>4</td>\n",
       "      <td>6</td>\n",
       "    </tr>\n",
       "    <tr>\n",
       "      <th>5</th>\n",
       "      <td>7</td>\n",
       "      <td>7</td>\n",
       "      <td>7</td>\n",
       "      <td>5</td>\n",
       "      <td>5</td>\n",
       "      <td>6</td>\n",
       "      <td>5</td>\n",
       "      <td>7</td>\n",
       "      <td>8</td>\n",
       "      <td>7</td>\n",
       "      <td>4</td>\n",
       "      <td>6</td>\n",
       "    </tr>\n",
       "  </tbody>\n",
       "</table>\n",
       "</div>"
      ],
      "text/plain": [
       "   Academic record  Appearance  Communication  Company Fit  Experience  \\\n",
       "0                6           8              7            5           6   \n",
       "1                9           8              8            8          10   \n",
       "2                6           7              7            6           6   \n",
       "3                7           8              6            5           8   \n",
       "4                4           7              8            6           6   \n",
       "5                7           7              7            5           5   \n",
       "\n",
       "   Job Fit  Letter  Likeability  Organization  Potential  Resume  \\\n",
       "0        5       7            7             7          6       7   \n",
       "1        9       8            9             8          9       9   \n",
       "2        7       7            8             8          6       6   \n",
       "3        5       9            8             7          8       7   \n",
       "4        6       6            7             8          5       4   \n",
       "5        6       5            7             8          7       4   \n",
       "\n",
       "   Self-Confidence  \n",
       "0                7  \n",
       "1                9  \n",
       "2                8  \n",
       "3                7  \n",
       "4                6  \n",
       "5                6  "
      ]
     },
     "execution_count": 2,
     "metadata": {},
     "output_type": "execute_result"
    }
   ],
   "source": [
    "input_path = './Training dataset/EFA+CFA/FactorAnalysis.csv'\n",
    "data = pd.read_csv(input_path)\n",
    "variable_names = data.columns\n",
    "data.head(6)"
   ]
  },
  {
   "cell_type": "code",
   "execution_count": 23,
   "metadata": {},
   "outputs": [
    {
     "data": {
      "text/plain": [
       "Academic record    6\n",
       "Appearance         8\n",
       "Communication      7\n",
       "Company Fit        5\n",
       "Experience         6\n",
       "Job Fit            5\n",
       "Letter             7\n",
       "Likeability        7\n",
       "Organization       7\n",
       "Potential          6\n",
       "Resume             7\n",
       "Self-Confidence    7\n",
       "Name: 0, dtype: int64"
      ]
     },
     "execution_count": 23,
     "metadata": {},
     "output_type": "execute_result"
    }
   ],
   "source": [
    "data.iloc[0]"
   ]
  },
  {
   "cell_type": "code",
   "execution_count": 3,
   "metadata": {},
   "outputs": [],
   "source": [
    "Zdata = pd.DataFrame(StandardScaler().fit_transform(data))\n",
    "corrcoef = pd.DataFrame(np.corrcoef(Zdata.T))\n",
    "corr = copy.deepcopy(corrcoef)"
   ]
  },
  {
   "cell_type": "code",
   "execution_count": 31,
   "metadata": {},
   "outputs": [],
   "source": [
    "def kmo(dataset_corr):\n",
    "    import numpy as np\n",
    "    import math\n",
    "    corr_inv = np.linalg.inv(dataset_corr)\n",
    "    nrow_inv_corr, ncol_inv_corr = dataset_corr.shape\n",
    "    A = np.ones((nrow_inv_corr, ncol_inv_corr))\n",
    "    for i in range(0, nrow_inv_corr, 1):\n",
    "        for j in range(i, ncol_inv_corr, 1):\n",
    "            A[i, j] = -(corr_inv[i, j]) / (math.sqrt(corr_inv[i, i] * corr_inv[j, j]))\n",
    "            A[j, i] = A[i, j]\n",
    "    dataset_corr = np.asarray(dataset_corr)\n",
    "    kmo_num = np.sum(np.square(dataset_corr)) - np.sum(np.square(np.diagonal(A)))\n",
    "    kmo_denom = kmo_num + np.sum(np.square(A)) - np.sum(np.square(np.diagonal(A)))\n",
    "    kmo_value = kmo_num / kmo_denom\n",
    "    return kmo_value"
   ]
  },
  {
   "cell_type": "code",
   "execution_count": 32,
   "metadata": {},
   "outputs": [
    {
     "name": "stdout",
     "output_type": "stream",
     "text": [
      "KMO with self-made function: 0.7979087431160236\n",
      "KMO with FA package: 0.7979087431160238\n",
      "Bartlett test with FA package: statistics = 472.514673 , p-value = 0.000000\n",
      "Bartlett test with scipy package: statistics = 0.000000 , p-value = 1.0 . now we have some issues.\n"
     ]
    }
   ],
   "source": [
    "corrcoef.columns = variable_names\n",
    "corrcoef.index = variable_names\n",
    "print(\"KMO with self-made function:\", kmo(corrcoef))\n",
    "print(\"KMO with FA package:\", calculate_kmo(Zdata)[1])\n",
    "BartlettStats, BartlettPValue = format(calculate_bartlett_sphericity(Zdata)[0], 'f'), format(calculate_bartlett_sphericity(Zdata)[1], 'f')\n",
    "print(\"Bartlett test with FA package: statistics =\", BartlettStats, \", p-value =\", BartlettPValue)\n",
    "BartlettStats2, BartlettPValue2 = bartlett(Zdata[0], Zdata[1], Zdata[2], Zdata[3], Zdata[3], Zdata[4], Zdata[5], Zdata[6], Zdata[7], Zdata[8], Zdata[9], Zdata[10], Zdata[11])\n",
    "print(\"Bartlett test with scipy package: statistics =\", format(BartlettStats2, 'f'), \", p-value =\", BartlettPValue2, \". now we have some issues.\")"
   ]
  },
  {
   "cell_type": "code",
   "execution_count": 38,
   "metadata": {},
   "outputs": [
    {
     "data": {
      "image/png": "[encoded data removed]",
      "text/plain": [
       "<Figure size 640x480 with 1 Axes>"
      ]
     },
     "metadata": {},
     "output_type": "display_data"
    }
   ],
   "source": [
    "# scree plot\n",
    "fa = FactorAnalyzer(n_factors = 12, rotation = None)\n",
    "fa.fit(Zdata)\n",
    "ev, v = fa.get_eigenvalues()\n",
    "\n",
    "plt.scatter(range(1,Zdata.shape[1]+1),ev)\n",
    "plt.plot(range(1,Zdata.shape[1]+1),ev)\n",
    "plt.title('Scree Plot')\n",
    "plt.xlabel('Factors')\n",
    "plt.ylabel('Eigenvalue')\n",
    "plt.grid()\n",
    "plt.show()"
   ]
  },
  {
   "attachments": {},
   "cell_type": "markdown",
   "metadata": {},
   "source": [
    "用的FA包做初步拟合。特征值提示我们大约**4**个因子比较合适。"
   ]
  },
  {
   "cell_type": "code",
   "execution_count": 7,
   "metadata": {},
   "outputs": [
    {
     "name": "stdout",
     "output_type": "stream",
     "text": [
      "Cumulative Prop. Variance Explained: \n"
     ]
    },
    {
     "data": {
      "text/html": [
       "<div>\n",
       "<style scoped>\n",
       "    .dataframe tbody tr th:only-of-type {\n",
       "        vertical-align: middle;\n",
       "    }\n",
       "\n",
       "    .dataframe tbody tr th {\n",
       "        vertical-align: top;\n",
       "    }\n",
       "\n",
       "    .dataframe thead th {\n",
       "        text-align: right;\n",
       "    }\n",
       "</style>\n",
       "<table border=\"1\" class=\"dataframe\">\n",
       "  <thead>\n",
       "    <tr style=\"text-align: right;\">\n",
       "      <th></th>\n",
       "      <th>cumulative variances</th>\n",
       "    </tr>\n",
       "  </thead>\n",
       "  <tbody>\n",
       "    <tr>\n",
       "      <th>factor1</th>\n",
       "      <td>0.523</td>\n",
       "    </tr>\n",
       "    <tr>\n",
       "      <th>factor2</th>\n",
       "      <td>0.638</td>\n",
       "    </tr>\n",
       "    <tr>\n",
       "      <th>factor3</th>\n",
       "      <td>0.723</td>\n",
       "    </tr>\n",
       "    <tr>\n",
       "      <th>factor4</th>\n",
       "      <td>0.802</td>\n",
       "    </tr>\n",
       "    <tr>\n",
       "      <th>factor5</th>\n",
       "      <td>0.846</td>\n",
       "    </tr>\n",
       "    <tr>\n",
       "      <th>factor6</th>\n",
       "      <td>0.865</td>\n",
       "    </tr>\n",
       "    <tr>\n",
       "      <th>factor7</th>\n",
       "      <td>0.876</td>\n",
       "    </tr>\n",
       "    <tr>\n",
       "      <th>factor8</th>\n",
       "      <td>0.883</td>\n",
       "    </tr>\n",
       "    <tr>\n",
       "      <th>factor9</th>\n",
       "      <td>0.889</td>\n",
       "    </tr>\n",
       "    <tr>\n",
       "      <th>factor10</th>\n",
       "      <td>0.891</td>\n",
       "    </tr>\n",
       "    <tr>\n",
       "      <th>factor11</th>\n",
       "      <td>0.891</td>\n",
       "    </tr>\n",
       "    <tr>\n",
       "      <th>factor12</th>\n",
       "      <td>0.891</td>\n",
       "    </tr>\n",
       "  </tbody>\n",
       "</table>\n",
       "</div>"
      ],
      "text/plain": [
       "          cumulative variances\n",
       "factor1                  0.523\n",
       "factor2                  0.638\n",
       "factor3                  0.723\n",
       "factor4                  0.802\n",
       "factor5                  0.846\n",
       "factor6                  0.865\n",
       "factor7                  0.876\n",
       "factor8                  0.883\n",
       "factor9                  0.889\n",
       "factor10                 0.891\n",
       "factor11                 0.891\n",
       "factor12                 0.891"
      ]
     },
     "execution_count": 7,
     "metadata": {},
     "output_type": "execute_result"
    }
   ],
   "source": [
    "# variance explained\n",
    "variance, prop_vari, cum_vari_efa = fa.get_factor_variance()\n",
    "cum_vari_efa = pd.DataFrame(cum_vari_efa)\n",
    "cum_vari_efa.index = [\"factor1\", \"factor2\", \"factor3\", \"factor4\", \"factor5\", \"factor6\", \"factor7\", \"factor8\", \"factor9\", \"factor10\", \"factor11\", \"factor12\"]\n",
    "cum_vari_efa.columns = [\"cumulative variances\"]\n",
    "print(\"Cumulative Prop. Variance Explained: \")\n",
    "cum_vari_efa"
   ]
  },
  {
   "attachments": {},
   "cell_type": "markdown",
   "metadata": {},
   "source": [
    "看一眼方差解释比例。4个解释了80%，还可以，能接受，就4个了。"
   ]
  },
  {
   "cell_type": "code",
   "execution_count": 8,
   "metadata": {},
   "outputs": [
    {
     "name": "stdout",
     "output_type": "stream",
     "text": [
      "Factor Loadings after rotation \n",
      "                 factor1  factor2  factor3  factor4\n",
      "Potential          0.839    0.284    0.116    0.286\n",
      "Experience         0.813   -0.059    0.353    0.160\n",
      "Academic record    0.801    0.175    0.122    0.265\n",
      "Job Fit            0.622    0.597    0.197    0.143\n",
      "Company Fit        0.510    0.723    0.178    0.127\n",
      "Self-Confidence    0.273    0.197    0.076    0.849\n",
      "Resume             0.270    0.133    0.857    0.319\n",
      "Appearance         0.208    0.242    0.170    0.804\n",
      "Letter             0.207    0.249    0.914    0.061\n",
      "Likeability        0.198    0.310    0.186    0.772\n",
      "Communication      0.069    0.822    0.216    0.311\n",
      "Organization       0.067    0.849    0.082    0.372\n"
     ]
    }
   ],
   "source": [
    "# EFA with factor_analyzer。本包改自R包psych:fa()\n",
    "fa = FactorAnalyzer(n_factors = 4,\n",
    "                    rotation = \"varimax\", # 希望是正交旋转\n",
    "                    method = \"principal\", # 三种方法分别是MINRES最小残差/OLS/ULS最小二乘、最大似然和主轴分解（迭代主成分因子分析）。最后一种待定，有文献指出“可能是”。\n",
    "                    use_smc = True, # 默认值\n",
    "                    )\n",
    "fa.fit(Zdata) # 由于数据已经预处理过了，相当于SPSS的根据相关性矩阵进行分析\n",
    "loadings = pd.DataFrame(fa.loadings_, columns = [\"factor1\", \"factor2\", \"factor3\", \"factor4\"], index = variable_names)\n",
    "loadings = loadings.sort_values(by = \"factor1\", ascending = False)\n",
    "print('Factor Loadings after rotation \\n%s' %loadings)\n"
   ]
  },
  {
   "cell_type": "code",
   "execution_count": null,
   "metadata": {},
   "outputs": [],
   "source": [
    "# EFA with sklearn 目前看来是个大坑，没有找到好的方案调出\n",
    "fa2 = FactorAnalysis(\n",
    "    n_components = 4,\n",
    "    rotation = \"varimax\" # 不是很友好，只有varimax和quartimax，都是正交。因子提取方法只有最大似然。\n",
    "    )\n",
    "fa2.fit()\n",
    "# fa2.components_ # 目前不太清楚这部分数据是什么。原文为Components with maximum variance，最大方差的组件，理论上应该是成分矩阵，但是和其他包做出来的完全不一样。怀疑在参数输入的地方可能有问题。\n",
    "# fa2.get_feature_names_out"
   ]
  },
  {
   "cell_type": "code",
   "execution_count": null,
   "metadata": {},
   "outputs": [],
   "source": [
    "# EFA with statsmodels\n",
    "fa3 = Factor()"
   ]
  },
  {
   "cell_type": "code",
   "execution_count": null,
   "metadata": {},
   "outputs": [],
   "source": [
    "# EFA with factanal(wrapper)\n",
    "# https://www.rdocumentation.org/packages/stats/versions/3.6.2/topics/factanal\n",
    "# fa4 = factanal(Zdata, factors = 4, scores = None, rotation = \"varimax\") # 该函数是R函数的api，输入的文件只支持pandas的dataframe，不支持最大似然。\n",
    "# 使用该包需要拥有R语言和rpy2。rpy2则不支持在windows上运行，因此该方法无用。"
   ]
  },
  {
   "cell_type": "code",
   "execution_count": 11,
   "metadata": {},
   "outputs": [
    {
     "data": {
      "image/png": "[encoded data removed]",
      "text/plain": [
       "<Figure size 640x480 with 1 Axes>"
      ]
     },
     "metadata": {},
     "output_type": "display_data"
    }
   ],
   "source": [
    "# PCA with sklearn 1\n",
    "pca = PCA(n_components = 12).fit(Zdata)\n",
    "cum_vari_pca = pca.explained_variance_ratio_\n",
    "plt.scatter(range(1,Zdata.shape[1]+1),cum_vari_pca)\n",
    "plt.plot(range(1,Zdata.shape[1]+1),cum_vari_pca)\n",
    "plt.title('Scree Plot')\n",
    "plt.xlabel('Components')\n",
    "plt.ylabel('Explained_variance')\n",
    "plt.grid()\n",
    "plt.show()\n"
   ]
  },
  {
   "cell_type": "code",
   "execution_count": 28,
   "metadata": {},
   "outputs": [
    {
     "name": "stdout",
     "output_type": "stream",
     "text": [
      "贡献方差，即特征根:  [6.51800387 1.51884155 1.12701845 1.07310726]\n",
      "方差贡献率:  [0.53230365 0.12403873 0.09203984 0.08763709]\n",
      "成分得分系数矩阵: \n"
     ]
    },
    {
     "data": {
      "text/html": [
       "<div>\n",
       "<style scoped>\n",
       "    .dataframe tbody tr th:only-of-type {\n",
       "        vertical-align: middle;\n",
       "    }\n",
       "\n",
       "    .dataframe tbody tr th {\n",
       "        vertical-align: top;\n",
       "    }\n",
       "\n",
       "    .dataframe thead th {\n",
       "        text-align: right;\n",
       "    }\n",
       "</style>\n",
       "<table border=\"1\" class=\"dataframe\">\n",
       "  <thead>\n",
       "    <tr style=\"text-align: right;\">\n",
       "      <th></th>\n",
       "      <th>Component1</th>\n",
       "      <th>Component2</th>\n",
       "      <th>Component3</th>\n",
       "      <th>Component4</th>\n",
       "    </tr>\n",
       "  </thead>\n",
       "  <tbody>\n",
       "    <tr>\n",
       "      <th>1</th>\n",
       "      <td>-0.113</td>\n",
       "      <td>-0.224</td>\n",
       "      <td>0.292</td>\n",
       "      <td>0.098</td>\n",
       "    </tr>\n",
       "    <tr>\n",
       "      <th>2</th>\n",
       "      <td>-0.111</td>\n",
       "      <td>0.180</td>\n",
       "      <td>0.146</td>\n",
       "      <td>-0.376</td>\n",
       "    </tr>\n",
       "    <tr>\n",
       "      <th>3</th>\n",
       "      <td>-0.110</td>\n",
       "      <td>0.297</td>\n",
       "      <td>-0.228</td>\n",
       "      <td>0.215</td>\n",
       "    </tr>\n",
       "    <tr>\n",
       "      <th>4</th>\n",
       "      <td>-0.124</td>\n",
       "      <td>0.040</td>\n",
       "      <td>-0.043</td>\n",
       "      <td>0.403</td>\n",
       "    </tr>\n",
       "    <tr>\n",
       "      <th>5</th>\n",
       "      <td>-0.100</td>\n",
       "      <td>-0.402</td>\n",
       "      <td>0.163</td>\n",
       "      <td>-0.035</td>\n",
       "    </tr>\n",
       "    <tr>\n",
       "      <th>6</th>\n",
       "      <td>-0.126</td>\n",
       "      <td>-0.052</td>\n",
       "      <td>0.026</td>\n",
       "      <td>0.344</td>\n",
       "    </tr>\n",
       "    <tr>\n",
       "      <th>7</th>\n",
       "      <td>-0.097</td>\n",
       "      <td>-0.217</td>\n",
       "      <td>-0.587</td>\n",
       "      <td>-0.126</td>\n",
       "    </tr>\n",
       "    <tr>\n",
       "      <th>8</th>\n",
       "      <td>-0.115</td>\n",
       "      <td>0.196</td>\n",
       "      <td>0.105</td>\n",
       "      <td>-0.325</td>\n",
       "    </tr>\n",
       "    <tr>\n",
       "      <th>9</th>\n",
       "      <td>-0.109</td>\n",
       "      <td>0.359</td>\n",
       "      <td>-0.125</td>\n",
       "      <td>0.232</td>\n",
       "    </tr>\n",
       "    <tr>\n",
       "      <th>10</th>\n",
       "      <td>-0.126</td>\n",
       "      <td>-0.193</td>\n",
       "      <td>0.292</td>\n",
       "      <td>0.157</td>\n",
       "    </tr>\n",
       "    <tr>\n",
       "      <th>11</th>\n",
       "      <td>-0.110</td>\n",
       "      <td>-0.198</td>\n",
       "      <td>-0.417</td>\n",
       "      <td>-0.323</td>\n",
       "    </tr>\n",
       "    <tr>\n",
       "      <th>12</th>\n",
       "      <td>-0.111</td>\n",
       "      <td>0.175</td>\n",
       "      <td>0.263</td>\n",
       "      <td>-0.385</td>\n",
       "    </tr>\n",
       "  </tbody>\n",
       "</table>\n",
       "</div>"
      ],
      "text/plain": [
       "    Component1  Component2  Component3  Component4\n",
       "1       -0.113      -0.224       0.292       0.098\n",
       "2       -0.111       0.180       0.146      -0.376\n",
       "3       -0.110       0.297      -0.228       0.215\n",
       "4       -0.124       0.040      -0.043       0.403\n",
       "5       -0.100      -0.402       0.163      -0.035\n",
       "6       -0.126      -0.052       0.026       0.344\n",
       "7       -0.097      -0.217      -0.587      -0.126\n",
       "8       -0.115       0.196       0.105      -0.325\n",
       "9       -0.109       0.359      -0.125       0.232\n",
       "10      -0.126      -0.193       0.292       0.157\n",
       "11      -0.110      -0.198      -0.417      -0.323\n",
       "12      -0.111       0.175       0.263      -0.385"
      ]
     },
     "execution_count": 28,
     "metadata": {},
     "output_type": "execute_result"
    }
   ],
   "source": [
    "# PCA with sklearn 2\n",
    "pca = PCA(n_components = 4).fit(Zdata)\n",
    "k1_spss = pd.DataFrame(pca.components_ / np.sqrt(pca.explained_variance_.reshape(pca.n_components_, 1))).T\n",
    "k1_spss.columns = ['Component1', 'Component2', 'Component3', 'Component4']\n",
    "k1_spss.index = [1,2,3,4,5,6,7,8,9,10,11,12]\n",
    "print('贡献方差，即特征根: ', pca.explained_variance_)\n",
    "print('方差贡献率: ', pca.explained_variance_ratio_)\n",
    "print(\"成分得分系数矩阵: \")\n",
    "k1_spss"
   ]
  },
  {
   "cell_type": "code",
   "execution_count": 32,
   "metadata": {},
   "outputs": [
    {
     "ename": "ValueError",
     "evalue": "Unable to coerce to Series, length must be 16: given 4",
     "output_type": "error",
     "traceback": [
      "\u001b[1;31m---------------------------------------------------------------------------\u001b[0m",
      "\u001b[1;31mValueError\u001b[0m                                Traceback (most recent call last)",
      "\u001b[1;32mh:\\I.R\\Project：Neuroscience\\Data Science Training\\Training dataset\\EFA+CFA\\EFA+CFA.ipynb 单元格 17\u001b[0m in \u001b[0;36m9\n\u001b[0;32m      <a href='vscode-notebook-cell:/h%3A/I.R/Project%EF%BC%9ANeuroscience/Data%20Science%20Training/Training%20dataset/EFA%2BCFA/EFA%2BCFA.ipynb#X23sZmlsZQ%3D%3D?line=6'>7</a>\u001b[0m x_score_scaler_sign \u001b[39m=\u001b[39m X_score_scaler \u001b[39m*\u001b[39m k_sign \u001b[39m#综合得分\u001b[39;00m\n\u001b[0;32m      <a href='vscode-notebook-cell:/h%3A/I.R/Project%EF%BC%9ANeuroscience/Data%20Science%20Training/Training%20dataset/EFA%2BCFA/EFA%2BCFA.ipynb#X23sZmlsZQ%3D%3D?line=7'>8</a>\u001b[0m rate \u001b[39m=\u001b[39m pca\u001b[39m.\u001b[39mexplained_variance_ratio_\n\u001b[1;32m----> <a href='vscode-notebook-cell:/h%3A/I.R/Project%EF%BC%9ANeuroscience/Data%20Science%20Training/Training%20dataset/EFA%2BCFA/EFA%2BCFA.ipynb#X23sZmlsZQ%3D%3D?line=8'>9</a>\u001b[0m x_score_scaler_sign[ \u001b[39m'\u001b[39m\u001b[39mFAC_score\u001b[39m\u001b[39m'\u001b[39m] \u001b[39m=\u001b[39m np\u001b[39m.\u001b[39msum(x_score_scaler_sign \u001b[39m*\u001b[39;49m rate,axis\u001b[39m=\u001b[39m\u001b[39m1\u001b[39m)\n\u001b[0;32m     <a href='vscode-notebook-cell:/h%3A/I.R/Project%EF%BC%9ANeuroscience/Data%20Science%20Training/Training%20dataset/EFA%2BCFA/EFA%2BCFA.ipynb#X23sZmlsZQ%3D%3D?line=9'>10</a>\u001b[0m \u001b[39mprint\u001b[39m(\u001b[39m'\u001b[39m\u001b[39m主成分得分矩阵:\u001b[39m\u001b[39m'\u001b[39m, x_score_scaler_sign)\n",
      "File \u001b[1;32mf:\\Python\\lib\\site-packages\\pandas\\core\\ops\\common.py:72\u001b[0m, in \u001b[0;36m_unpack_zerodim_and_defer.<locals>.new_method\u001b[1;34m(self, other)\u001b[0m\n\u001b[0;32m     68\u001b[0m             \u001b[39mreturn\u001b[39;00m \u001b[39mNotImplemented\u001b[39m\n\u001b[0;32m     70\u001b[0m other \u001b[39m=\u001b[39m item_from_zerodim(other)\n\u001b[1;32m---> 72\u001b[0m \u001b[39mreturn\u001b[39;00m method(\u001b[39mself\u001b[39;49m, other)\n",
      "File \u001b[1;32mf:\\Python\\lib\\site-packages\\pandas\\core\\arraylike.py:119\u001b[0m, in \u001b[0;36mOpsMixin.__mul__\u001b[1;34m(self, other)\u001b[0m\n\u001b[0;32m    117\u001b[0m \u001b[39m@unpack_zerodim_and_defer\u001b[39m(\u001b[39m\"\u001b[39m\u001b[39m__mul__\u001b[39m\u001b[39m\"\u001b[39m)\n\u001b[0;32m    118\u001b[0m \u001b[39mdef\u001b[39;00m \u001b[39m__mul__\u001b[39m(\u001b[39mself\u001b[39m, other):\n\u001b[1;32m--> 119\u001b[0m     \u001b[39mreturn\u001b[39;00m \u001b[39mself\u001b[39;49m\u001b[39m.\u001b[39;49m_arith_method(other, operator\u001b[39m.\u001b[39;49mmul)\n",
      "File \u001b[1;32mf:\\Python\\lib\\site-packages\\pandas\\core\\frame.py:7584\u001b[0m, in \u001b[0;36mDataFrame._arith_method\u001b[1;34m(self, other, op)\u001b[0m\n\u001b[0;32m   7581\u001b[0m axis \u001b[39m=\u001b[39m \u001b[39m1\u001b[39m  \u001b[39m# only relevant for Series other case\u001b[39;00m\n\u001b[0;32m   7582\u001b[0m other \u001b[39m=\u001b[39m ops\u001b[39m.\u001b[39mmaybe_prepare_scalar_for_op(other, (\u001b[39mself\u001b[39m\u001b[39m.\u001b[39mshape[axis],))\n\u001b[1;32m-> 7584\u001b[0m \u001b[39mself\u001b[39m, other \u001b[39m=\u001b[39m ops\u001b[39m.\u001b[39;49malign_method_FRAME(\u001b[39mself\u001b[39;49m, other, axis, flex\u001b[39m=\u001b[39;49m\u001b[39mTrue\u001b[39;49;00m, level\u001b[39m=\u001b[39;49m\u001b[39mNone\u001b[39;49;00m)\n\u001b[0;32m   7586\u001b[0m new_data \u001b[39m=\u001b[39m \u001b[39mself\u001b[39m\u001b[39m.\u001b[39m_dispatch_frame_op(other, op, axis\u001b[39m=\u001b[39maxis)\n\u001b[0;32m   7587\u001b[0m \u001b[39mreturn\u001b[39;00m \u001b[39mself\u001b[39m\u001b[39m.\u001b[39m_construct_result(new_data)\n",
      "File \u001b[1;32mf:\\Python\\lib\\site-packages\\pandas\\core\\ops\\__init__.py:249\u001b[0m, in \u001b[0;36malign_method_FRAME\u001b[1;34m(left, right, axis, flex, level)\u001b[0m\n\u001b[0;32m    246\u001b[0m \u001b[39mif\u001b[39;00m \u001b[39misinstance\u001b[39m(right, np\u001b[39m.\u001b[39mndarray):\n\u001b[0;32m    248\u001b[0m     \u001b[39mif\u001b[39;00m right\u001b[39m.\u001b[39mndim \u001b[39m==\u001b[39m \u001b[39m1\u001b[39m:\n\u001b[1;32m--> 249\u001b[0m         right \u001b[39m=\u001b[39m to_series(right)\n\u001b[0;32m    251\u001b[0m     \u001b[39melif\u001b[39;00m right\u001b[39m.\u001b[39mndim \u001b[39m==\u001b[39m \u001b[39m2\u001b[39m:\n\u001b[0;32m    252\u001b[0m         \u001b[39mif\u001b[39;00m right\u001b[39m.\u001b[39mshape \u001b[39m==\u001b[39m left\u001b[39m.\u001b[39mshape:\n",
      "File \u001b[1;32mf:\\Python\\lib\\site-packages\\pandas\\core\\ops\\__init__.py:240\u001b[0m, in \u001b[0;36malign_method_FRAME.<locals>.to_series\u001b[1;34m(right)\u001b[0m\n\u001b[0;32m    238\u001b[0m \u001b[39melse\u001b[39;00m:\n\u001b[0;32m    239\u001b[0m     \u001b[39mif\u001b[39;00m \u001b[39mlen\u001b[39m(left\u001b[39m.\u001b[39mcolumns) \u001b[39m!=\u001b[39m \u001b[39mlen\u001b[39m(right):\n\u001b[1;32m--> 240\u001b[0m         \u001b[39mraise\u001b[39;00m \u001b[39mValueError\u001b[39;00m(\n\u001b[0;32m    241\u001b[0m             msg\u001b[39m.\u001b[39mformat(req_len\u001b[39m=\u001b[39m\u001b[39mlen\u001b[39m(left\u001b[39m.\u001b[39mcolumns), given_len\u001b[39m=\u001b[39m\u001b[39mlen\u001b[39m(right))\n\u001b[0;32m    242\u001b[0m         )\n\u001b[0;32m    243\u001b[0m     right \u001b[39m=\u001b[39m left\u001b[39m.\u001b[39m_constructor_sliced(right, index\u001b[39m=\u001b[39mleft\u001b[39m.\u001b[39mcolumns)\n\u001b[0;32m    244\u001b[0m \u001b[39mreturn\u001b[39;00m right\n",
      "\u001b[1;31mValueError\u001b[0m: Unable to coerce to Series, length must be 16: given 4"
     ]
    }
   ],
   "source": [
    "# PCA with sklearn 3\n",
    "x_score = pca.transform(Zdata)\n",
    "# print('因子得分:', x_score)        # 因子得分归一化，使其服从正态分布\n",
    "scaler2 = StandardScaler().fit(x_score)\n",
    "X_score_scaler = pd.DataFrame(scaler2.transform(x_score), columns=['COMP1', 'COMP2', 'COMP3', 'COMP4']) #正负号转化\n",
    "k_sign = np.sign(k1_spss.sum(axis=1)) # 取正负号\n",
    "x_score_scaler_sign = X_score_scaler * k_sign # 综合得分\n",
    "rate = pca.explained_variance_ratio_\n",
    "x_score_scaler_sign[ 'FAC_score'] = np.sum(x_score_scaler_sign * rate,axis=1)\n",
    "print('主成分得分矩阵:', x_score_scaler_sign)"
   ]
  },
  {
   "cell_type": "code",
   "execution_count": null,
   "metadata": {},
   "outputs": [],
   "source": [
    "# CFA & SEM"
   ]
  }
 ],
 "metadata": {
  "kernelspec": {
   "display_name": "Python 3",
   "language": "python",
   "name": "python3"
  },
  "language_info": {
   "codemirror_mode": {
    "name": "ipython",
    "version": 3
   },
   "file_extension": ".py",
   "mimetype": "text/x-python",
   "name": "python",
   "nbconvert_exporter": "python",
   "pygments_lexer": "ipython3",
   "version": "3.10.4"
  },
  "orig_nbformat": 4,
  "vscode": {
   "interpreter": {
    "hash": "78f5b707d86fd9281530b9fa2dbdbe1b33232c3b651a8e052360c651d4996094"
   }
  }
 },
 "nbformat": 4,
 "nbformat_minor": 2
}
