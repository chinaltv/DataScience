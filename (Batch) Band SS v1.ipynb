{
 "cells": [
  {
   "cell_type": "markdown",
   "metadata": {},
   "source": [
    "you should run below in the cmd for your packages installation.  \n",
    "```py -m ensurepip --default-pip``` # if you did not add pip into PATH, then this would remove the annoying py -m   \n",
    "```pip install -i https://pypi.tuna.tsinghua.edu.cn/simple mne```   \n",
    "```pip install -i https://pypi.tuna.tsinghua.edu.cn/simple numpy```  \n",
    "```pip install -i https://pypi.tuna.tsinghua.edu.cn/simple pandas```  \n",
    "These code would install the package  "
   ]
  },
  {
   "cell_type": "code",
   "execution_count": 1,
   "metadata": {},
   "outputs": [
    {
     "ename": "FileNotFoundError",
     "evalue": "[WinError 3] 系统找不到指定的路径。: 'e:/SDODT Co., Ltd/Sleep issues'",
     "output_type": "error",
     "traceback": [
      "\u001b[1;31m---------------------------------------------------------------------------\u001b[0m",
      "\u001b[1;31mFileNotFoundError\u001b[0m                         Traceback (most recent call last)",
      "Cell \u001b[1;32mIn [1], line 10\u001b[0m\n\u001b[0;32m      7\u001b[0m \u001b[39mfrom\u001b[39;00m \u001b[39msleep_utilities\u001b[39;00m \u001b[39mimport\u001b[39;00m band_return_ss, batch_band_ss\n\u001b[0;32m      9\u001b[0m \u001b[39m# some other basic setting\u001b[39;00m\n\u001b[1;32m---> 10\u001b[0m os\u001b[39m.\u001b[39;49mchdir(\u001b[39m'\u001b[39;49m\u001b[39me:/SDODT Co., Ltd/Sleep issues\u001b[39;49m\u001b[39m'\u001b[39;49m)\n",
      "\u001b[1;31mFileNotFoundError\u001b[0m: [WinError 3] 系统找不到指定的路径。: 'e:/SDODT Co., Ltd/Sleep issues'"
     ]
    }
   ],
   "source": [
    "%load_ext autoreload\n",
    "%autoreload 2\n",
    "\n",
    "# basic pack and function import\n",
    "import os\n",
    "import numpy as np\n",
    "from sleep_utilities import band_return_ss, batch_band_ss\n",
    "\n",
    "# some other basic setting\n",
    "os.chdir('e:/SDODT Co., Ltd/Sleep issues')"
   ]
  },
  {
   "cell_type": "markdown",
   "metadata": {},
   "source": [
    "由于mne包的一些局限和代码写作原因，下面是仅基于txt的单通道数据批量预处理代码，基于读取edf数据的后续再研究。请先下载utilities.py文件再使用该jupyter脚本。  \n",
    "\n",
    "该脚本/函数将**仅**适用于单通道脑电设备，并且存在一定缺陷（暂时没有什么好的思路解决），可以支持一定情况下的使用，下述具体问题：  \n",
    "1. 尾端数据（与切片长度有关）将被正常算出，因此视需求而定自行观察抛弃列表尾端的数据。  \n",
    "2. 切片参数目前不能过低，以前适用的1s是不行的，这里默认设成了2s，这和mne包傅里叶变换的原理有些关系（然而我对傅里叶变换并不是太熟）。个人拿的30s数据做了2s，4s，5s的切片测试都成功，有需求者可以测试一下其他情况并反馈到我这里，如有需求pull request。\n",
    "3. mne包傅里叶变换的原理并不是很了解，只是简单复用mne包的功能，因此可能存在一定问题。\n",
    "\n",
    "\n",
    "陈曦 2022.10.07 v1"
   ]
  },
  {
   "cell_type": "code",
   "execution_count": null,
   "metadata": {},
   "outputs": [],
   "source": [
    "# 你需要做的事情：设定基础路径os.chdir('xxxx')和数据input_path路径和导出output_path路径。如有需要，在自己喜欢的函数后面加入切片间隔slice_interval，采样率s_rate，频段参数band_power（为列表，可用列表+字符串的形式传入，默认为这五项；也可以用频段字典的形式传入，例如[1,2]），和傅里叶变换参数n_fft。推荐使用256。\n",
    "# 目前仅适用于单通道数眠原始数据（以1s为采样传输）。切片参数不可太低，默认2s为佳。\n",
    "\n",
    "input_path = './data/openclose_selfmotivated/raw/agg'\n",
    "output_path = './data/openclose_selfmotivated/python_ss'\n",
    "raw = np.loadtxt('./data/openclose_selfmotivated/raw/agg/s1_close10.txt', dtype = np.floating, delimiter = ',')\n",
    "\n",
    "# 请自己加相应参数，选择自己想要的函数\n",
    "# band_return_ss(raw, slice_interval = 2, s_rate = 250, band_power = [\"alpha\", \"beta\", \"gamma\", \"delta\", \"theta\"], n_fft = 256)\n",
    "batch_band_ss(input_path, output_path, slice_interval = 2, s_rate = 250, band_power = [\"alpha\", \"beta\", \"gamma\", \"delta\", \"theta\"], n_fft = 256)"
   ]
  }
 ],
 "metadata": {
  "kernelspec": {
   "display_name": "Python 3.10.4 64-bit",
   "language": "python",
   "name": "python3"
  },
  "language_info": {
   "codemirror_mode": {
    "name": "ipython",
    "version": 3
   },
   "file_extension": ".py",
   "mimetype": "text/x-python",
   "name": "python",
   "nbconvert_exporter": "python",
   "pygments_lexer": "ipython3",
   "version": "3.10.4"
  },
  "orig_nbformat": 4,
  "vscode": {
   "interpreter": {
    "hash": "78f5b707d86fd9281530b9fa2dbdbe1b33232c3b651a8e052360c651d4996094"
   }
  }
 },
 "nbformat": 4,
 "nbformat_minor": 2
}
