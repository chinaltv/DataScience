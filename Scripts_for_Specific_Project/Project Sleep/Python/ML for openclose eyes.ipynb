{
 "cells": [
  {
   "cell_type": "markdown",
   "metadata": {},
   "source": [
    "导入数据"
   ]
  },
  {
   "cell_type": "code",
   "execution_count": 7,
   "metadata": {},
   "outputs": [],
   "source": [
    "import numpy as np\n",
    "import pandas as pd\n",
    "import feather\n",
    "import os\n",
    "import openpyxl\n",
    "import pyreadstat\n",
    "import scipy.io\n",
    "\n",
    "os.chdir('E:/SDODT Co., Ltd/Sleep issues/data/openclose_selfmotivated/df_for_python/')\n",
    "\n",
    "# 56-18数据集与其预测变量\n",
    "\n",
    "df_train_std = feather.read_dataframe('./df_train_std.feather')\n",
    "df_train56 = feather.read_dataframe('./df_train.feather')\n",
    "act_train = feather.read_dataframe('./act_train.feather')\n",
    "\n",
    "df_test_std = feather.read_dataframe('./df_test_std.feather')\n",
    "df_test18 = feather.read_dataframe('./df_test.feather')\n",
    "act_test = feather.read_dataframe('./act_test.feather')\n",
    "\n",
    "# 72数据集\n",
    "\n",
    "df_train72 = feather.read_dataframe('./df_train72.feather')\n",
    "act_train72 = feather.read_dataframe('./act_train72.feather')\n",
    "\n",
    "df_test72 = feather.read_dataframe('./df_test72.feather')\n",
    "act_test72 = feather.read_dataframe('./act_test72.feather')\n",
    "\n",
    "def convert_to_int(lists):\n",
    "    return [int(el) if not isinstance(el,list) else convert_to_int(el) for el in lists]\n",
    "\n",
    "# train_std/train56 - act_train, train72 - act_train72, test同理\n",
    "\n",
    "act_train = convert_to_int(act_train.iloc[:,0].to_list())\n",
    "act_test = convert_to_int(act_test.iloc[:,0].to_list())\n",
    "act_train72 = convert_to_int(act_train72.iloc[:,0].to_list())\n",
    "act_test72 = convert_to_int(act_test72.iloc[:,0].to_list())\n",
    "df_train_std = df_train_std.drop(['act'], axis = 1)\n",
    "df_test_std = df_test_std.drop(['act'], axis = 1)\n",
    "df_train_std = df_train_std.astype('float64')\n",
    "df_test_std = df_test_std.astype('float64')"
   ]
  },
  {
   "cell_type": "markdown",
   "metadata": {},
   "source": [
    "神经网络"
   ]
  },
  {
   "cell_type": "code",
   "execution_count": 30,
   "metadata": {},
   "outputs": [
    {
     "name": "stdout",
     "output_type": "stream",
     "text": [
      "训练集准确率: 0.9841554023811655\n",
      "测试集准确率: 0.5212527964205816\n"
     ]
    },
    {
     "name": "stderr",
     "output_type": "stream",
     "text": [
      "c:\\Users\\Admin\\AppData\\Local\\Programs\\Python\\Python310\\lib\\site-packages\\sklearn\\neural_network\\_multilayer_perceptron.py:702: ConvergenceWarning: Stochastic Optimizer: Maximum iterations (200) reached and the optimization hasn't converged yet.\n",
      "  warnings.warn(\n"
     ]
    }
   ],
   "source": [
    "from sklearn.neural_network import MLPClassifier\n",
    "ret_list = []\n",
    "# 神经网络对数据变换敏感，因此需要归一化\n",
    "# mlp = MLPClassifier().fit(df_train_std, act_train)\n",
    "mlp = MLPClassifier(solver='adam', alpha=1e-5, hidden_layer_sizes=(20,10), random_state=1)  # 反向bp算法\n",
    "mlp.fit(df_train_std,act_train)\n",
    "\n",
    "act_train_predict = mlp.predict(df_train_std)\n",
    "act_predict = mlp.predict(df_test_std)\n",
    "ret_list.append(sum(act_test == act_predict) / len(act_test))\n",
    "print(\"训练集准确率:\",sum(act_train==act_train_predict)/len(act_train))\n",
    "print(\"测试集准确率:\",sum(act_test==act_predict)/len(act_test))"
   ]
  },
  {
   "cell_type": "markdown",
   "metadata": {},
   "source": [
    "树方法"
   ]
  },
  {
   "cell_type": "code",
   "execution_count": null,
   "metadata": {},
   "outputs": [],
   "source": [
    "# from sklearn.model_selection import train_test_split\n",
    "# from sklearn.metrics import confusion_matrix\n",
    "\n",
    "# x = df[\"x\"]\n",
    "# y = df[\"y\"]\n",
    "\n",
    "\n",
    "# x_train, x_test, y_train, y_test = train_test_split(x, y, test_size=0.75)\n",
    "\n",
    "# #Random Forest\n",
    "\n",
    "# from sklearn.ensemble import RandomForestClassifier\n",
    "# rf = RandomForestClassifier(n_estimators = 1000, random_state = 42)\n",
    "# rf.fit(x_train, y_train)\n",
    "# predictions = rf.predict(x_test)\n",
    "# cm = confusion_matrix(y_test,predictions)\n",
    "# print(cm)\n",
    "\n",
    "# #Decision Tree\n",
    "\n",
    "# from sklearn import tree\n",
    "# clf = tree.DecisionTreeClassifier()\n",
    "# clf = clf.fit(x_train, y_train)\n",
    "# predictions = clf.predict(x_test)\n",
    "# cm = confusion_matrix(y_test,predictions)"
   ]
  }
 ],
 "metadata": {
  "kernelspec": {
   "display_name": "Python 3.10.7 64-bit",
   "language": "python",
   "name": "python3"
  },
  "language_info": {
   "codemirror_mode": {
    "name": "ipython",
    "version": 3
   },
   "file_extension": ".py",
   "mimetype": "text/x-python",
   "name": "python",
   "nbconvert_exporter": "python",
   "pygments_lexer": "ipython3",
   "version": "3.10.7"
  },
  "orig_nbformat": 4,
  "vscode": {
   "interpreter": {
    "hash": "a42ccb73e7d9bfdf27e036f1d2b8b681e55fc0743cc5586bc2474d4a60f4b886"
   }
  }
 },
 "nbformat": 4,
 "nbformat_minor": 2
}
