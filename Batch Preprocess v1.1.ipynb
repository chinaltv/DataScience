{
 "cells": [
  {
   "cell_type": "markdown",
   "metadata": {},
   "source": [
    "you should run below in the cmd for your packages installation.  \n",
    "```py -m ensurepip --default-pip``` # if you did not add pip into PATH, then this would remove the annoying py -m   \n",
    "```pip install -i https://pypi.tuna.tsinghua.edu.cn/simple mne```   \n",
    "```pip install -i https://pypi.tuna.tsinghua.edu.cn/simple numpy```  \n",
    "```pip install -i https://pypi.tuna.tsinghua.edu.cn/simple pandas```  \n",
    "These code would install the package  "
   ]
  },
  {
   "cell_type": "code",
   "execution_count": 1,
   "metadata": {},
   "outputs": [],
   "source": [
    "%load_ext autoreload\n",
    "%autoreload 2\n",
    "\n",
    "# basic pack and function import\n",
    "import os\n",
    "from sleep_utilities import art_clean, batch_art_clean\n",
    "\n",
    "# some other basic setting\n",
    "os.chdir('e:/SDODT Co., Ltd/Sleep issues')"
   ]
  },
  {
   "cell_type": "markdown",
   "metadata": {},
   "source": [
    "由于mne包的一些局限和代码写作原因，下面是仅基于txt的单通道数据批量预处理代码，基于读取edf数据的后续再研究。请先下载utilities.py文件再使用该jupyter脚本。\n",
    "\n",
    "该脚本/函数将**仅**适用于单通道脑电设备，并可根据需要填写采样率参数以进行自动分割（默认为250，数眠设备的采样率）。\n",
    "\n",
    "更新日志（刚实现的功能，还没测试。测试后该函数即稳定，停留在v1.1版不再更新）：  \n",
    "1 对batch_art_clean/art_clean函数加入切割参数和抛弃比例参数。设定认为判断比例参数后如果小于参数则扔，大于则采用缩放的方式。  \n",
    "\n",
    "\n",
    "预计要实现的其他功能：  \n",
    "2 坏采样问题判断，连续1s（250个点）内均为0认为是坏数据（没什么好思路，暂时鸽）  \n",
    "\n",
    "陈曦 2022.09.30 v1.1"
   ]
  },
  {
   "cell_type": "code",
   "execution_count": 2,
   "metadata": {},
   "outputs": [],
   "source": [
    "# 你需要做的事情：设定基础路径os.chdir('xxxx')和数据input_path路径和导出output_path路径。如有需要，在batch函数后面加入切片间隔slice_interval，切片丢弃比例slice_disposal_ratio，异常值切割比例art_disposal_percentile，采样率s_rate和高低通滤波l_freq/h_freq。\n",
    "# 目前仅适用于单通道数眠原始数据（以1s为采样传输）\n",
    "\n",
    "input_path = './data/openclose_selfmotivated/raw/agg'\n",
    "output_path = './data/openclose_selfmotivated/python_cleaned'\n",
    "\n",
    "# 请自己加相应参数\n",
    "batch_art_clean(input_path, output_path, slice_interval = 1, slice_disposal_ratio = 10, art_disposal_percentile = 10, s_rate = 250, l_freq = 1, h_freq = 20)"
   ]
  }
 ],
 "metadata": {
  "kernelspec": {
   "display_name": "Python 3.10.7 64-bit",
   "language": "python",
   "name": "python3"
  },
  "language_info": {
   "codemirror_mode": {
    "name": "ipython",
    "version": 3
   },
   "file_extension": ".py",
   "mimetype": "text/x-python",
   "name": "python",
   "nbconvert_exporter": "python",
   "pygments_lexer": "ipython3",
   "version": "3.10.7"
  },
  "orig_nbformat": 4,
  "vscode": {
   "interpreter": {
    "hash": "a42ccb73e7d9bfdf27e036f1d2b8b681e55fc0743cc5586bc2474d4a60f4b886"
   }
  }
 },
 "nbformat": 4,
 "nbformat_minor": 2
}
